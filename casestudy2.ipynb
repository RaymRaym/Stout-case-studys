{
 "cells": [
  {
   "cell_type": "code",
   "execution_count": null,
   "metadata": {
    "id": "UvLmpxEKaz_F"
   },
   "outputs": [],
   "source": [
    "!pip install pyspark\n",
    "!pip install -U -q PyDrive\n",
    "!apt install openjdk-8-jdk-headless -qq\n",
    "import os\n",
    "os.environ[\"JAVA_HOME\"] = \"/usr/lib/jvm/java-8-openjdk-amd64\""
   ]
  },
  {
   "cell_type": "code",
   "execution_count": null,
   "metadata": {
    "id": "mJ-MEPx-a6GU"
   },
   "outputs": [],
   "source": [
    "import pandas as pd\n",
    "import numpy as np\n",
    "import matplotlib.pyplot as plt\n",
    "%matplotlib inline\n",
    "\n",
    "import pyspark\n",
    "from pyspark.sql import *\n",
    "from pyspark.sql.functions import *\n",
    "from pyspark import SparkContext, SparkConf"
   ]
  },
  {
   "cell_type": "code",
   "execution_count": null,
   "metadata": {
    "id": "zT0dinVmdCWS"
   },
   "outputs": [],
   "source": [
    "# create the session\n",
    "conf = SparkConf().set(\"spark.ui.port\", \"4050\")\n",
    "\n",
    "# create the context\n",
    "sc = pyspark.SparkContext(conf=conf)\n",
    "spark = SparkSession.builder.getOrCreate()"
   ]
  },
  {
   "cell_type": "code",
   "execution_count": null,
   "metadata": {
    "colab": {
     "base_uri": "https://localhost:8080/",
     "height": 219
    },
    "id": "JKo_rYwgdFdK",
    "outputId": "5e076e1f-3e57-4c83-f76f-696e87e7eac7"
   },
   "outputs": [
    {
     "data": {
      "text/html": [
       "\n",
       "            <div>\n",
       "                <p><b>SparkSession - in-memory</b></p>\n",
       "                \n",
       "        <div>\n",
       "            <p><b>SparkContext</b></p>\n",
       "\n",
       "            <p><a href=\"http://7873d63e341f:4050\">Spark UI</a></p>\n",
       "\n",
       "            <dl>\n",
       "              <dt>Version</dt>\n",
       "                <dd><code>v3.2.1</code></dd>\n",
       "              <dt>Master</dt>\n",
       "                <dd><code>local[*]</code></dd>\n",
       "              <dt>AppName</dt>\n",
       "                <dd><code>pyspark-shell</code></dd>\n",
       "            </dl>\n",
       "        </div>\n",
       "        \n",
       "            </div>\n",
       "        "
      ],
      "text/plain": [
       "<pyspark.sql.session.SparkSession at 0x7fa550e43a10>"
      ]
     },
     "execution_count": 4,
     "metadata": {},
     "output_type": "execute_result"
    }
   ],
   "source": [
    "spark"
   ]
  },
  {
   "cell_type": "code",
   "execution_count": null,
   "metadata": {
    "id": "cyhln1ZTb0fd"
   },
   "outputs": [],
   "source": [
    "rdd = spark.read.csv('casestudy.csv', header=True, inferSchema=True)"
   ]
  },
  {
   "cell_type": "code",
   "execution_count": null,
   "metadata": {
    "colab": {
     "base_uri": "https://localhost:8080/"
    },
    "id": "LhXZannRdN5X",
    "outputId": "5ff86988-9f2e-45eb-f72d-e5ff24b8f54e"
   },
   "outputs": [
    {
     "name": "stdout",
     "output_type": "stream",
     "text": [
      "root\n",
      " |-- _c0: integer (nullable = true)\n",
      " |-- customer_email: string (nullable = true)\n",
      " |-- net_revenue: double (nullable = true)\n",
      " |-- year: integer (nullable = true)\n",
      "\n"
     ]
    }
   ],
   "source": [
    "rdd.printSchema()"
   ]
  },
  {
   "cell_type": "code",
   "execution_count": null,
   "metadata": {
    "colab": {
     "base_uri": "https://localhost:8080/"
    },
    "id": "-FTd3iYVdSET",
    "outputId": "f3d1ef9d-2ea9-425f-88bb-c082d83c0df5"
   },
   "outputs": [
    {
     "data": {
      "text/plain": [
       "[Row(_c0=0, customer_email=' nhknapwsbx@gmail.com', net_revenue=249.92, year=2015),\n",
       " Row(_c0=1, customer_email='joiuzbvcpn@gmail.com', net_revenue=87.61, year=2015),\n",
       " Row(_c0=2, customer_email='ukkjctepxt@gmail.com', net_revenue=168.38, year=2015),\n",
       " Row(_c0=3, customer_email=' gykatilzrt@gmail.com', net_revenue=62.4, year=2015),\n",
       " Row(_c0=4, customer_email='mmsgsrtxah@gmail.com', net_revenue=43.08, year=2015)]"
      ]
     },
     "execution_count": 13,
     "metadata": {},
     "output_type": "execute_result"
    }
   ],
   "source": [
    "rdd.take(5)"
   ]
  },
  {
   "cell_type": "code",
   "execution_count": null,
   "metadata": {
    "id": "CEYYTRlhdwuE"
   },
   "outputs": [],
   "source": [
    "rdd.registerTempTable(\"orders\")"
   ]
  },
  {
   "cell_type": "markdown",
   "metadata": {
    "id": "HdOkMB6fdlym"
   },
   "source": [
    "\n",
    "\n",
    "---\n",
    "\n",
    "•\tTotal revenue for the current year"
   ]
  },
  {
   "cell_type": "code",
   "execution_count": null,
   "metadata": {
    "colab": {
     "base_uri": "https://localhost:8080/"
    },
    "id": "fetgw741dlUR",
    "outputId": "ca8c0a5a-0515-4c03-d2ad-57076a12282b"
   },
   "outputs": [
    {
     "data": {
      "text/plain": [
       "[Row(year=2015, total_revenue=29036749.18999953),\n",
       " Row(year=2016, total_revenue=25730943.589999683),\n",
       " Row(year=2017, total_revenue=31417495.02999995)]"
      ]
     },
     "execution_count": 18,
     "metadata": {},
     "output_type": "execute_result"
    }
   ],
   "source": [
    "query = \"SELECT year, sum(net_revenue) as total_revenue \\\n",
    "        FROM orders \\\n",
    "        GROUP BY year\"\n",
    "total_revenue_each_year = spark.sql(query)\n",
    "total_revenue_each_year.take(10)"
   ]
  },
  {
   "cell_type": "code",
   "execution_count": null,
   "metadata": {
    "colab": {
     "base_uri": "https://localhost:8080/",
     "height": 491
    },
    "id": "gx1jFB0ee9UR",
    "outputId": "f15ae960-261e-4d8f-8a21-20c940e8cece"
   },
   "outputs": [
    {
     "data": {
      "text/plain": [
       "Text(0.5, 1.0, 'total_revenue_each_year')"
      ]
     },
     "execution_count": 20,
     "metadata": {},
     "output_type": "execute_result"
    },
    {
     "data": {
      "image/png": "[encoded data removed]",
      "text/plain": [
       "<Figure size 720x504 with 1 Axes>"
      ]
     },
     "metadata": {
      "needs_background": "light"
     },
     "output_type": "display_data"
    }
   ],
   "source": [
    "total_revenue_each_year_pd = total_revenue_each_year.toPandas()\n",
    "pl = total_revenue_each_year_pd.plot(kind=\"bar\", \n",
    "                            x=\"year\", y=\"total_revenue\", \n",
    "                            figsize=(10, 7),  alpha=0.5, color=\"blue\")\n",
    "pl.set_xlabel(\"year\")\n",
    "pl.set_ylabel(\"total_revenue\")\n",
    "pl.set_title(\"Total Revenue Each Year\")"
   ]
  },
  {
   "cell_type": "markdown",
   "metadata": {
    "id": "qM4NWACEewMd"
   },
   "source": [
    "\n",
    "\n",
    "---\n",
    "\n",
    "•\tNew Customer Revenue e.g. new customers not present in previous year only"
   ]
  },
  {
   "cell_type": "code",
   "execution_count": null,
   "metadata": {
    "id": "ZyG2Ml7sexlu"
   },
   "outputs": [],
   "source": [
    "query = 'select sum(net_revenue)\\\n",
    "        from (select customer_email, net_revenue from orders where year=2016 and customer_email not in (select customer_email from orders where year=2015))'\n",
    "new_customer_2016 = spark.sql(query)\n",
    "query = 'select sum(net_revenue)\\\n",
    "        from (select customer_email, net_revenue from orders where year=2017 and customer_email not in (select customer_email from orders where year=2016))'\n",
    "new_customer_2017 = spark.sql(query)\n"
   ]
  },
  {
   "cell_type": "code",
   "execution_count": null,
   "metadata": {
    "colab": {
     "base_uri": "https://localhost:8080/"
    },
    "id": "0gLY0O1cjEt6",
    "outputId": "ddd9beea-4cd1-4ea0-a2d7-ba8652a65fb5"
   },
   "outputs": [
    {
     "name": "stdout",
     "output_type": "stream",
     "text": [
      "New Customer Revenue in 2016: 18245491.01\n",
      "New Customer Revenue in 2017: 28776235.04\n"
     ]
    }
   ],
   "source": [
    "new_customer_2016_pd = new_customer_2016.toPandas()\n",
    "print(f\"New Customer Revenue in 2016: {format(new_customer_2016_pd['sum(net_revenue)'][0], '.2f')}\")\n",
    "new_customer_2017_pd = new_customer_2017.toPandas()\n",
    "print(f\"New Customer Revenue in 2017: {format(new_customer_2017_pd['sum(net_revenue)'][0], '.2f')}\")"
   ]
  },
  {
   "cell_type": "markdown",
   "metadata": {
    "id": "hpwpbuDSpHgf"
   },
   "source": [
    "\n",
    "\n",
    "---\n",
    "•\tRevenue lost from attrition"
   ]
  },
  {
   "cell_type": "code",
   "execution_count": null,
   "metadata": {
    "id": "mzCF_Nj4pMFl"
   },
   "outputs": [],
   "source": [
    "query = 'select sum(net_revenue)\\\n",
    "        from (select customer_email, net_revenue from orders where year=2015 and customer_email not in (select customer_email from orders where year=2016))'\n",
    "lost_customer_revenue_2016 = spark.sql(query)\n",
    "query = 'select sum(net_revenue)\\\n",
    "        from (select customer_email, net_revenue from orders where year=2016 and customer_email not in (select customer_email from orders where year=2017))'\n",
    "lost_customer_revenue_2017 = spark.sql(query)\n"
   ]
  },
  {
   "cell_type": "code",
   "execution_count": null,
   "metadata": {
    "colab": {
     "base_uri": "https://localhost:8080/"
    },
    "id": "ZSvcgmG8paS7",
    "outputId": "655ab407-6dcd-4008-e797-b39f8ec003c4"
   },
   "outputs": [
    {
     "name": "stdout",
     "output_type": "stream",
     "text": [
      "Revenue lost from attrition in 2016: 21571632.07\n",
      "Revenue lost from attrition in 2017: 23110294.94\n"
     ]
    }
   ],
   "source": [
    "lost_customer_revenue_2016_pd = lost_customer_revenue_2016.toPandas()\n",
    "print(f\"Revenue lost from attrition in 2016: {format(lost_customer_revenue_2016_pd['sum(net_revenue)'][0], '.2f')}\")\n",
    "lost_customer_revenue_2017_pd = lost_customer_revenue_2017.toPandas()\n",
    "print(f\"Revenue lost from attrition in 2017: {format(lost_customer_revenue_2017_pd['sum(net_revenue)'][0], '.2f')}\")"
   ]
  },
  {
   "cell_type": "markdown",
   "metadata": {
    "id": "TliUDRXup9EB"
   },
   "source": [
    "\n",
    "\n",
    "---\n",
    "•\tExisting Customer Revenue Current Year\n"
   ]
  },
  {
   "cell_type": "code",
   "execution_count": 87,
   "metadata": {
    "id": "Vj5WgDOTI2rp"
   },
   "outputs": [],
   "source": [
    "query = 'select sum(net_revenue)\\\n",
    "        from (select customer_email, net_revenue from orders where year=2016 and customer_email in (select customer_email from orders where year=2015))'\n",
    "existing_revenue_current_year_2016 = spark.sql(query)\n",
    "query = 'select sum(net_revenue)\\\n",
    "        from (select customer_email, net_revenue from orders where year=2017 and customer_email in (select customer_email from orders where year=2016))'\n",
    "existing_revenue_current_year_2017 = spark.sql(query)"
   ]
  },
  {
   "cell_type": "code",
   "execution_count": 89,
   "metadata": {
    "id": "LJe2G_2daGo7"
   },
   "outputs": [],
   "source": [
    "existing_revenue_current_year_2016_pd = existing_revenue_current_year_2016.toPandas()\n",
    "existing_revenue_current_year_2017_pd = existing_revenue_current_year_2017.toPandas()"
   ]
  },
  {
   "cell_type": "code",
   "execution_count": 94,
   "metadata": {
    "colab": {
     "base_uri": "https://localhost:8080/"
    },
    "id": "Hlp6rqJ1NxcE",
    "outputId": "b7af7920-38ff-4e8a-d512-08e648b37f64"
   },
   "outputs": [
    {
     "name": "stdout",
     "output_type": "stream",
     "text": [
      "Existing Customer Revenue Current Year in 2016 : 7485452.58\n",
      "Existing Customer Revenue Current Year in 2017 : 2641259.99\n"
     ]
    }
   ],
   "source": [
    "print(f\"Existing Customer Revenue Current Year in 2016 : {format(existing_revenue_current_year_2016_pd['sum(net_revenue)'][0], '.2f')}\")\n",
    "print(f\"Existing Customer Revenue Current Year in 2017 : {format(existing_revenue_current_year_2017_pd['sum(net_revenue)'][0], '.2f')}\")"
   ]
  },
  {
   "cell_type": "markdown",
   "metadata": {
    "id": "JLWzgL5bqC0d"
   },
   "source": [
    "\n",
    "\n",
    "---\n",
    "\n",
    "•\tExisting Customer Revenue Prior Year"
   ]
  },
  {
   "cell_type": "code",
   "execution_count": 96,
   "metadata": {
    "id": "0YsvRePVKz-E"
   },
   "outputs": [],
   "source": [
    "query = 'select sum(net_revenue)\\\n",
    "        from (select customer_email, net_revenue from orders where year=2015 and customer_email in (select customer_email from orders where year=2016))'\n",
    "existing_revenue_prior_year_2016 = spark.sql(query)\n",
    "query = 'select sum(net_revenue)\\\n",
    "        from (select customer_email, net_revenue from orders where year=2016 and customer_email in (select customer_email from orders where year=2017))'\n",
    "existing_revenue_prior_year_2017 = spark.sql(query)"
   ]
  },
  {
   "cell_type": "code",
   "execution_count": 97,
   "metadata": {
    "id": "arSNuF9DbDKu"
   },
   "outputs": [],
   "source": [
    "existing_revenue_prior_year_2016_pd = existing_revenue_prior_year_2016.toPandas()\n",
    "existing_revenue_prior_year_2017_pd = existing_revenue_prior_year_2017.toPandas()"
   ]
  },
  {
   "cell_type": "code",
   "execution_count": 98,
   "metadata": {
    "colab": {
     "base_uri": "https://localhost:8080/"
    },
    "id": "myhR5WYwbOni",
    "outputId": "99df40de-58fd-4adb-c0be-df6bed7b9f5c"
   },
   "outputs": [
    {
     "name": "stdout",
     "output_type": "stream",
     "text": [
      "Existing Customer Revenue prior Year in 2016 : 7465117.12\n",
      "Existing Customer Revenue prior Year in 2017 : 2620648.65\n"
     ]
    }
   ],
   "source": [
    "print(f\"Existing Customer Revenue prior Year in 2016 : {format(existing_revenue_prior_year_2016_pd['sum(net_revenue)'][0], '.2f')}\")\n",
    "print(f\"Existing Customer Revenue prior Year in 2017 : {format(existing_revenue_prior_year_2017_pd['sum(net_revenue)'][0], '.2f')}\")"
   ]
  },
  {
   "cell_type": "markdown",
   "metadata": {
    "id": "IgODw4oMlsIh"
   },
   "source": [
    "\n",
    "\n",
    "---\n",
    "\n",
    "•\tExisting Customer Growth. To calculate this, use the Revenue of existing customers for current year –(minus) Revenue of existing customers from the previous year"
   ]
  },
  {
   "cell_type": "code",
   "execution_count": 99,
   "metadata": {
    "colab": {
     "base_uri": "https://localhost:8080/"
    },
    "id": "SagEkEWJbpM9",
    "outputId": "d67c9eba-3212-41eb-9e61-737f8a7dc0cd"
   },
   "outputs": [
    {
     "name": "stdout",
     "output_type": "stream",
     "text": [
      "Existing Customer Growth in 2016: 20335.46\n",
      "Existing Customer Growth in 2017: 20611.34\n"
     ]
    }
   ],
   "source": [
    "print(f\"Existing Customer Growth in 2016: {format( existing_revenue_current_year_2016_pd['sum(net_revenue)'][0]-existing_revenue_prior_year_2016_pd['sum(net_revenue)'][0],'.2f')}\")\n",
    "print(f\"Existing Customer Growth in 2017: {format( existing_revenue_current_year_2017_pd['sum(net_revenue)'][0]-existing_revenue_prior_year_2017_pd['sum(net_revenue)'][0],'.2f')}\")"
   ]
  },
  {
   "cell_type": "markdown",
   "metadata": {
    "id": "9uDBtOAYqG7W"
   },
   "source": [
    "\n",
    "\n",
    "---\n",
    "•\tTotal Customers Current Year and Total Customers Previous Year\n"
   ]
  },
  {
   "cell_type": "code",
   "execution_count": null,
   "metadata": {
    "colab": {
     "base_uri": "https://localhost:8080/"
    },
    "id": "BwTnYmsPp8YE",
    "outputId": "96a7a380-0b64-421d-c77f-aefe608d15cd"
   },
   "outputs": [
    {
     "data": {
      "text/plain": [
       "[Row(previous_year=2015, total_customers_previous_year=231294, current_year=2016, total_customers_current_year=204646),\n",
       " Row(previous_year=2016, total_customers_previous_year=204646, current_year=2017, total_customers_current_year=249987)]"
      ]
     },
     "execution_count": 61,
     "metadata": {},
     "output_type": "execute_result"
    }
   ],
   "source": [
    "query = 'select a.year as previous_year, count1 as total_customers_previous_year, b.year as current_year, count2 as total_customers_current_year\\\n",
    "         from (select count(distinct customer_email) as count1, year\\\n",
    "         from orders\\\n",
    "         group by year) a, (select count(distinct customer_email) as count2, year\\\n",
    "         from orders\\\n",
    "         group by year) b\\\n",
    "         where a.year=b.year-1'\n",
    "total_customers_each_year = spark.sql(query)\n",
    "total_customers_each_year.collect()"
   ]
  },
  {
   "cell_type": "code",
   "execution_count": null,
   "metadata": {
    "colab": {
     "base_uri": "https://localhost:8080/",
     "height": 112
    },
    "id": "BucsQslgsNNt",
    "outputId": "e8cd440a-fc8a-4b4a-ae8a-b2a7cb10e275"
   },
   "outputs": [
    {
     "data": {
      "text/html": [
       "\n",
       "  <div id=\"df-4b2ae9d5-e2c0-4049-ac70-b57cb67c27b9\">\n",
       "    <div class=\"colab-df-container\">\n",
       "      <div>\n",
       "<style scoped>\n",
       "    .dataframe tbody tr th:only-of-type {\n",
       "        vertical-align: middle;\n",
       "    }\n",
       "\n",
       "    .dataframe tbody tr th {\n",
       "        vertical-align: top;\n",
       "    }\n",
       "\n",
       "    .dataframe thead th {\n",
       "        text-align: right;\n",
       "    }\n",
       "</style>\n",
       "<table border=\"1\" class=\"dataframe\">\n",
       "  <thead>\n",
       "    <tr style=\"text-align: right;\">\n",
       "      <th></th>\n",
       "      <th>previous_year</th>\n",
       "      <th>total_customers_previous_year</th>\n",
       "      <th>current_year</th>\n",
       "      <th>total_customers_current_year</th>\n",
       "    </tr>\n",
       "  </thead>\n",
       "  <tbody>\n",
       "    <tr>\n",
       "      <th>0</th>\n",
       "      <td>2015</td>\n",
       "      <td>231294</td>\n",
       "      <td>2016</td>\n",
       "      <td>204646</td>\n",
       "    </tr>\n",
       "    <tr>\n",
       "      <th>1</th>\n",
       "      <td>2016</td>\n",
       "      <td>204646</td>\n",
       "      <td>2017</td>\n",
       "      <td>249987</td>\n",
       "    </tr>\n",
       "  </tbody>\n",
       "</table>\n",
       "</div>\n",
       "      <button class=\"colab-df-convert\" onclick=\"convertToInteractive('df-4b2ae9d5-e2c0-4049-ac70-b57cb67c27b9')\"\n",
       "              title=\"Convert this dataframe to an interactive table.\"\n",
       "              style=\"display:none;\">\n",
       "        \n",
       "  <svg xmlns=\"http://www.w3.org/2000/svg\" height=\"24px\"viewBox=\"0 0 24 24\"\n",
       "       width=\"24px\">\n",
       "    <path d=\"M0 0h24v24H0V0z\" fill=\"none\"/>\n",
       "    <path d=\"M18.56 5.44l.94 2.06.94-2.06 2.06-.94-2.06-.94-.94-2.06-.94 2.06-2.06.94zm-11 1L8.5 8.5l.94-2.06 2.06-.94-2.06-.94L8.5 2.5l-.94 2.06-2.06.94zm10 10l.94 2.06.94-2.06 2.06-.94-2.06-.94-.94-2.06-.94 2.06-2.06.94z\"/><path d=\"M17.41 7.96l-1.37-1.37c-.4-.4-.92-.59-1.43-.59-.52 0-1.04.2-1.43.59L10.3 9.45l-7.72 7.72c-.78.78-.78 2.05 0 2.83L4 21.41c.39.39.9.59 1.41.59.51 0 1.02-.2 1.41-.59l7.78-7.78 2.81-2.81c.8-.78.8-2.07 0-2.86zM5.41 20L4 18.59l7.72-7.72 1.47 1.35L5.41 20z\"/>\n",
       "  </svg>\n",
       "      </button>\n",
       "      \n",
       "  <style>\n",
       "    .colab-df-container {\n",
       "      display:flex;\n",
       "      flex-wrap:wrap;\n",
       "      gap: 12px;\n",
       "    }\n",
       "\n",
       "    .colab-df-convert {\n",
       "      background-color: #E8F0FE;\n",
       "      border: none;\n",
       "      border-radius: 50%;\n",
       "      cursor: pointer;\n",
       "      display: none;\n",
       "      fill: #1967D2;\n",
       "      height: 32px;\n",
       "      padding: 0 0 0 0;\n",
       "      width: 32px;\n",
       "    }\n",
       "\n",
       "    .colab-df-convert:hover {\n",
       "      background-color: #E2EBFA;\n",
       "      box-shadow: 0px 1px 2px rgba(60, 64, 67, 0.3), 0px 1px 3px 1px rgba(60, 64, 67, 0.15);\n",
       "      fill: #174EA6;\n",
       "    }\n",
       "\n",
       "    [theme=dark] .colab-df-convert {\n",
       "      background-color: #3B4455;\n",
       "      fill: #D2E3FC;\n",
       "    }\n",
       "\n",
       "    [theme=dark] .colab-df-convert:hover {\n",
       "      background-color: #434B5C;\n",
       "      box-shadow: 0px 1px 3px 1px rgba(0, 0, 0, 0.15);\n",
       "      filter: drop-shadow(0px 1px 2px rgba(0, 0, 0, 0.3));\n",
       "      fill: #FFFFFF;\n",
       "    }\n",
       "  </style>\n",
       "\n",
       "      <script>\n",
       "        const buttonEl =\n",
       "          document.querySelector('#df-4b2ae9d5-e2c0-4049-ac70-b57cb67c27b9 button.colab-df-convert');\n",
       "        buttonEl.style.display =\n",
       "          google.colab.kernel.accessAllowed ? 'block' : 'none';\n",
       "\n",
       "        async function convertToInteractive(key) {\n",
       "          const element = document.querySelector('#df-4b2ae9d5-e2c0-4049-ac70-b57cb67c27b9');\n",
       "          const dataTable =\n",
       "            await google.colab.kernel.invokeFunction('convertToInteractive',\n",
       "                                                     [key], {});\n",
       "          if (!dataTable) return;\n",
       "\n",
       "          const docLinkHtml = 'Like what you see? Visit the ' +\n",
       "            '<a target=\"_blank\" href=https://colab.research.google.com/notebooks/data_table.ipynb>data table notebook</a>'\n",
       "            + ' to learn more about interactive tables.';\n",
       "          element.innerHTML = '';\n",
       "          dataTable['output_type'] = 'display_data';\n",
       "          await google.colab.output.renderOutput(dataTable, element);\n",
       "          const docLink = document.createElement('div');\n",
       "          docLink.innerHTML = docLinkHtml;\n",
       "          element.appendChild(docLink);\n",
       "        }\n",
       "      </script>\n",
       "    </div>\n",
       "  </div>\n",
       "  "
      ],
      "text/plain": [
       "   previous_year  total_customers_previous_year  current_year  \\\n",
       "0           2015                         231294          2016   \n",
       "1           2016                         204646          2017   \n",
       "\n",
       "   total_customers_current_year  \n",
       "0                        204646  \n",
       "1                        249987  "
      ]
     },
     "execution_count": 62,
     "metadata": {},
     "output_type": "execute_result"
    }
   ],
   "source": [
    "total_customers_each_year_pd = total_customers_each_year.toPandas()\n",
    "total_customers_each_year_pd"
   ]
  },
  {
   "cell_type": "markdown",
   "metadata": {
    "id": "iEn9teiCs7-M"
   },
   "source": [
    "\n",
    "\n",
    "---\n",
    "\n",
    "•\tNew Customers"
   ]
  },
  {
   "cell_type": "code",
   "execution_count": null,
   "metadata": {
    "id": "U7Rlp3Fbs7F3"
   },
   "outputs": [],
   "source": [
    "query = 'select customer_email\\\n",
    "        from (select customer_email, net_revenue from orders where year=2016 and customer_email not in (select customer_email from orders where year=2015))'\n",
    "new_customers_2016 = spark.sql(query)\n",
    "query = 'select customer_email\\\n",
    "        from (select customer_email, net_revenue from orders where year=2017 and customer_email not in (select customer_email from orders where year=2016))'\n",
    "new_customers_2017 = spark.sql(query)"
   ]
  },
  {
   "cell_type": "code",
   "execution_count": null,
   "metadata": {
    "id": "121FqghouHNk"
   },
   "outputs": [],
   "source": [
    "new_customers_2016_pd = new_customers_2016.toPandas()\n",
    "new_customers_2017_pd = new_customers_2017.toPandas()\n"
   ]
  },
  {
   "cell_type": "code",
   "execution_count": null,
   "metadata": {
    "colab": {
     "base_uri": "https://localhost:8080/",
     "height": 423
    },
    "id": "bk2MgR25uTIZ",
    "outputId": "ac13dac1-0a73-4036-a2c3-116857767261"
   },
   "outputs": [
    {
     "data": {
      "text/html": [
       "\n",
       "  <div id=\"df-eae32f2f-1a10-4eee-b8f0-ed9c14e81a89\">\n",
       "    <div class=\"colab-df-container\">\n",
       "      <div>\n",
       "<style scoped>\n",
       "    .dataframe tbody tr th:only-of-type {\n",
       "        vertical-align: middle;\n",
       "    }\n",
       "\n",
       "    .dataframe tbody tr th {\n",
       "        vertical-align: top;\n",
       "    }\n",
       "\n",
       "    .dataframe thead th {\n",
       "        text-align: right;\n",
       "    }\n",
       "</style>\n",
       "<table border=\"1\" class=\"dataframe\">\n",
       "  <thead>\n",
       "    <tr style=\"text-align: right;\">\n",
       "      <th></th>\n",
       "      <th>customer_email</th>\n",
       "    </tr>\n",
       "  </thead>\n",
       "  <tbody>\n",
       "    <tr>\n",
       "      <th>0</th>\n",
       "      <td>mwrossuukz@gmail.com</td>\n",
       "    </tr>\n",
       "    <tr>\n",
       "      <th>1</th>\n",
       "      <td>gkwsoupawk@gmail.com</td>\n",
       "    </tr>\n",
       "    <tr>\n",
       "      <th>2</th>\n",
       "      <td>vlyigtgfzs@gmail.com</td>\n",
       "    </tr>\n",
       "    <tr>\n",
       "      <th>3</th>\n",
       "      <td>yfirychuhk@gmail.com</td>\n",
       "    </tr>\n",
       "    <tr>\n",
       "      <th>4</th>\n",
       "      <td>trnzgqinuu@gmail.com</td>\n",
       "    </tr>\n",
       "    <tr>\n",
       "      <th>...</th>\n",
       "      <td>...</td>\n",
       "    </tr>\n",
       "    <tr>\n",
       "      <th>145057</th>\n",
       "      <td>sqodpufunf@gmail.com</td>\n",
       "    </tr>\n",
       "    <tr>\n",
       "      <th>145058</th>\n",
       "      <td>dcakqgznnm@gmail.com</td>\n",
       "    </tr>\n",
       "    <tr>\n",
       "      <th>145059</th>\n",
       "      <td>rdotspqdxi@gmail.com</td>\n",
       "    </tr>\n",
       "    <tr>\n",
       "      <th>145060</th>\n",
       "      <td>fkweqlmmjw@gmail.com</td>\n",
       "    </tr>\n",
       "    <tr>\n",
       "      <th>145061</th>\n",
       "      <td>pidugzoeej@gmail.com</td>\n",
       "    </tr>\n",
       "  </tbody>\n",
       "</table>\n",
       "<p>145062 rows × 1 columns</p>\n",
       "</div>\n",
       "      <button class=\"colab-df-convert\" onclick=\"convertToInteractive('df-eae32f2f-1a10-4eee-b8f0-ed9c14e81a89')\"\n",
       "              title=\"Convert this dataframe to an interactive table.\"\n",
       "              style=\"display:none;\">\n",
       "        \n",
       "  <svg xmlns=\"http://www.w3.org/2000/svg\" height=\"24px\"viewBox=\"0 0 24 24\"\n",
       "       width=\"24px\">\n",
       "    <path d=\"M0 0h24v24H0V0z\" fill=\"none\"/>\n",
       "    <path d=\"M18.56 5.44l.94 2.06.94-2.06 2.06-.94-2.06-.94-.94-2.06-.94 2.06-2.06.94zm-11 1L8.5 8.5l.94-2.06 2.06-.94-2.06-.94L8.5 2.5l-.94 2.06-2.06.94zm10 10l.94 2.06.94-2.06 2.06-.94-2.06-.94-.94-2.06-.94 2.06-2.06.94z\"/><path d=\"M17.41 7.96l-1.37-1.37c-.4-.4-.92-.59-1.43-.59-.52 0-1.04.2-1.43.59L10.3 9.45l-7.72 7.72c-.78.78-.78 2.05 0 2.83L4 21.41c.39.39.9.59 1.41.59.51 0 1.02-.2 1.41-.59l7.78-7.78 2.81-2.81c.8-.78.8-2.07 0-2.86zM5.41 20L4 18.59l7.72-7.72 1.47 1.35L5.41 20z\"/>\n",
       "  </svg>\n",
       "      </button>\n",
       "      \n",
       "  <style>\n",
       "    .colab-df-container {\n",
       "      display:flex;\n",
       "      flex-wrap:wrap;\n",
       "      gap: 12px;\n",
       "    }\n",
       "\n",
       "    .colab-df-convert {\n",
       "      background-color: #E8F0FE;\n",
       "      border: none;\n",
       "      border-radius: 50%;\n",
       "      cursor: pointer;\n",
       "      display: none;\n",
       "      fill: #1967D2;\n",
       "      height: 32px;\n",
       "      padding: 0 0 0 0;\n",
       "      width: 32px;\n",
       "    }\n",
       "\n",
       "    .colab-df-convert:hover {\n",
       "      background-color: #E2EBFA;\n",
       "      box-shadow: 0px 1px 2px rgba(60, 64, 67, 0.3), 0px 1px 3px 1px rgba(60, 64, 67, 0.15);\n",
       "      fill: #174EA6;\n",
       "    }\n",
       "\n",
       "    [theme=dark] .colab-df-convert {\n",
       "      background-color: #3B4455;\n",
       "      fill: #D2E3FC;\n",
       "    }\n",
       "\n",
       "    [theme=dark] .colab-df-convert:hover {\n",
       "      background-color: #434B5C;\n",
       "      box-shadow: 0px 1px 3px 1px rgba(0, 0, 0, 0.15);\n",
       "      filter: drop-shadow(0px 1px 2px rgba(0, 0, 0, 0.3));\n",
       "      fill: #FFFFFF;\n",
       "    }\n",
       "  </style>\n",
       "\n",
       "      <script>\n",
       "        const buttonEl =\n",
       "          document.querySelector('#df-eae32f2f-1a10-4eee-b8f0-ed9c14e81a89 button.colab-df-convert');\n",
       "        buttonEl.style.display =\n",
       "          google.colab.kernel.accessAllowed ? 'block' : 'none';\n",
       "\n",
       "        async function convertToInteractive(key) {\n",
       "          const element = document.querySelector('#df-eae32f2f-1a10-4eee-b8f0-ed9c14e81a89');\n",
       "          const dataTable =\n",
       "            await google.colab.kernel.invokeFunction('convertToInteractive',\n",
       "                                                     [key], {});\n",
       "          if (!dataTable) return;\n",
       "\n",
       "          const docLinkHtml = 'Like what you see? Visit the ' +\n",
       "            '<a target=\"_blank\" href=https://colab.research.google.com/notebooks/data_table.ipynb>data table notebook</a>'\n",
       "            + ' to learn more about interactive tables.';\n",
       "          element.innerHTML = '';\n",
       "          dataTable['output_type'] = 'display_data';\n",
       "          await google.colab.output.renderOutput(dataTable, element);\n",
       "          const docLink = document.createElement('div');\n",
       "          docLink.innerHTML = docLinkHtml;\n",
       "          element.appendChild(docLink);\n",
       "        }\n",
       "      </script>\n",
       "    </div>\n",
       "  </div>\n",
       "  "
      ],
      "text/plain": [
       "               customer_email\n",
       "0        mwrossuukz@gmail.com\n",
       "1        gkwsoupawk@gmail.com\n",
       "2        vlyigtgfzs@gmail.com\n",
       "3        yfirychuhk@gmail.com\n",
       "4        trnzgqinuu@gmail.com\n",
       "...                       ...\n",
       "145057   sqodpufunf@gmail.com\n",
       "145058   dcakqgznnm@gmail.com\n",
       "145059   rdotspqdxi@gmail.com\n",
       "145060   fkweqlmmjw@gmail.com\n",
       "145061   pidugzoeej@gmail.com\n",
       "\n",
       "[145062 rows x 1 columns]"
      ]
     },
     "execution_count": 81,
     "metadata": {},
     "output_type": "execute_result"
    }
   ],
   "source": [
    "new_customers_2016_pd"
   ]
  },
  {
   "cell_type": "code",
   "execution_count": null,
   "metadata": {
    "colab": {
     "base_uri": "https://localhost:8080/",
     "height": 423
    },
    "id": "EvuCpXJAuU5R",
    "outputId": "6d3d35bf-75be-4af6-9002-5bdc90d5c0e5"
   },
   "outputs": [
    {
     "data": {
      "text/html": [
       "\n",
       "  <div id=\"df-61065d04-9871-4349-9e67-8d0273ac5312\">\n",
       "    <div class=\"colab-df-container\">\n",
       "      <div>\n",
       "<style scoped>\n",
       "    .dataframe tbody tr th:only-of-type {\n",
       "        vertical-align: middle;\n",
       "    }\n",
       "\n",
       "    .dataframe tbody tr th {\n",
       "        vertical-align: top;\n",
       "    }\n",
       "\n",
       "    .dataframe thead th {\n",
       "        text-align: right;\n",
       "    }\n",
       "</style>\n",
       "<table border=\"1\" class=\"dataframe\">\n",
       "  <thead>\n",
       "    <tr style=\"text-align: right;\">\n",
       "      <th></th>\n",
       "      <th>customer_email</th>\n",
       "    </tr>\n",
       "  </thead>\n",
       "  <tbody>\n",
       "    <tr>\n",
       "      <th>0</th>\n",
       "      <td>mwrossuukz@gmail.com</td>\n",
       "    </tr>\n",
       "    <tr>\n",
       "      <th>1</th>\n",
       "      <td>qvjfterwnk@gmail.com</td>\n",
       "    </tr>\n",
       "    <tr>\n",
       "      <th>2</th>\n",
       "      <td>vlyigtgfzs@gmail.com</td>\n",
       "    </tr>\n",
       "    <tr>\n",
       "      <th>3</th>\n",
       "      <td>yfirychuhk@gmail.com</td>\n",
       "    </tr>\n",
       "    <tr>\n",
       "      <th>4</th>\n",
       "      <td>fdkiioqtli@gmail.com</td>\n",
       "    </tr>\n",
       "    <tr>\n",
       "      <th>...</th>\n",
       "      <td>...</td>\n",
       "    </tr>\n",
       "    <tr>\n",
       "      <th>229023</th>\n",
       "      <td>qzqttwiftu@gmail.com</td>\n",
       "    </tr>\n",
       "    <tr>\n",
       "      <th>229024</th>\n",
       "      <td>pjodiifjop@gmail.com</td>\n",
       "    </tr>\n",
       "    <tr>\n",
       "      <th>229025</th>\n",
       "      <td>appaplmgko@gmail.com</td>\n",
       "    </tr>\n",
       "    <tr>\n",
       "      <th>229026</th>\n",
       "      <td>wvkpmwsgck@gmail.com</td>\n",
       "    </tr>\n",
       "    <tr>\n",
       "      <th>229027</th>\n",
       "      <td>aregboumbw@gmail.com</td>\n",
       "    </tr>\n",
       "  </tbody>\n",
       "</table>\n",
       "<p>229028 rows × 1 columns</p>\n",
       "</div>\n",
       "      <button class=\"colab-df-convert\" onclick=\"convertToInteractive('df-61065d04-9871-4349-9e67-8d0273ac5312')\"\n",
       "              title=\"Convert this dataframe to an interactive table.\"\n",
       "              style=\"display:none;\">\n",
       "        \n",
       "  <svg xmlns=\"http://www.w3.org/2000/svg\" height=\"24px\"viewBox=\"0 0 24 24\"\n",
       "       width=\"24px\">\n",
       "    <path d=\"M0 0h24v24H0V0z\" fill=\"none\"/>\n",
       "    <path d=\"M18.56 5.44l.94 2.06.94-2.06 2.06-.94-2.06-.94-.94-2.06-.94 2.06-2.06.94zm-11 1L8.5 8.5l.94-2.06 2.06-.94-2.06-.94L8.5 2.5l-.94 2.06-2.06.94zm10 10l.94 2.06.94-2.06 2.06-.94-2.06-.94-.94-2.06-.94 2.06-2.06.94z\"/><path d=\"M17.41 7.96l-1.37-1.37c-.4-.4-.92-.59-1.43-.59-.52 0-1.04.2-1.43.59L10.3 9.45l-7.72 7.72c-.78.78-.78 2.05 0 2.83L4 21.41c.39.39.9.59 1.41.59.51 0 1.02-.2 1.41-.59l7.78-7.78 2.81-2.81c.8-.78.8-2.07 0-2.86zM5.41 20L4 18.59l7.72-7.72 1.47 1.35L5.41 20z\"/>\n",
       "  </svg>\n",
       "      </button>\n",
       "      \n",
       "  <style>\n",
       "    .colab-df-container {\n",
       "      display:flex;\n",
       "      flex-wrap:wrap;\n",
       "      gap: 12px;\n",
       "    }\n",
       "\n",
       "    .colab-df-convert {\n",
       "      background-color: #E8F0FE;\n",
       "      border: none;\n",
       "      border-radius: 50%;\n",
       "      cursor: pointer;\n",
       "      display: none;\n",
       "      fill: #1967D2;\n",
       "      height: 32px;\n",
       "      padding: 0 0 0 0;\n",
       "      width: 32px;\n",
       "    }\n",
       "\n",
       "    .colab-df-convert:hover {\n",
       "      background-color: #E2EBFA;\n",
       "      box-shadow: 0px 1px 2px rgba(60, 64, 67, 0.3), 0px 1px 3px 1px rgba(60, 64, 67, 0.15);\n",
       "      fill: #174EA6;\n",
       "    }\n",
       "\n",
       "    [theme=dark] .colab-df-convert {\n",
       "      background-color: #3B4455;\n",
       "      fill: #D2E3FC;\n",
       "    }\n",
       "\n",
       "    [theme=dark] .colab-df-convert:hover {\n",
       "      background-color: #434B5C;\n",
       "      box-shadow: 0px 1px 3px 1px rgba(0, 0, 0, 0.15);\n",
       "      filter: drop-shadow(0px 1px 2px rgba(0, 0, 0, 0.3));\n",
       "      fill: #FFFFFF;\n",
       "    }\n",
       "  </style>\n",
       "\n",
       "      <script>\n",
       "        const buttonEl =\n",
       "          document.querySelector('#df-61065d04-9871-4349-9e67-8d0273ac5312 button.colab-df-convert');\n",
       "        buttonEl.style.display =\n",
       "          google.colab.kernel.accessAllowed ? 'block' : 'none';\n",
       "\n",
       "        async function convertToInteractive(key) {\n",
       "          const element = document.querySelector('#df-61065d04-9871-4349-9e67-8d0273ac5312');\n",
       "          const dataTable =\n",
       "            await google.colab.kernel.invokeFunction('convertToInteractive',\n",
       "                                                     [key], {});\n",
       "          if (!dataTable) return;\n",
       "\n",
       "          const docLinkHtml = 'Like what you see? Visit the ' +\n",
       "            '<a target=\"_blank\" href=https://colab.research.google.com/notebooks/data_table.ipynb>data table notebook</a>'\n",
       "            + ' to learn more about interactive tables.';\n",
       "          element.innerHTML = '';\n",
       "          dataTable['output_type'] = 'display_data';\n",
       "          await google.colab.output.renderOutput(dataTable, element);\n",
       "          const docLink = document.createElement('div');\n",
       "          docLink.innerHTML = docLinkHtml;\n",
       "          element.appendChild(docLink);\n",
       "        }\n",
       "      </script>\n",
       "    </div>\n",
       "  </div>\n",
       "  "
      ],
      "text/plain": [
       "               customer_email\n",
       "0        mwrossuukz@gmail.com\n",
       "1       qvjfterwnk@gmail.com \n",
       "2        vlyigtgfzs@gmail.com\n",
       "3        yfirychuhk@gmail.com\n",
       "4        fdkiioqtli@gmail.com\n",
       "...                       ...\n",
       "229023   qzqttwiftu@gmail.com\n",
       "229024   pjodiifjop@gmail.com\n",
       "229025   appaplmgko@gmail.com\n",
       "229026   wvkpmwsgck@gmail.com\n",
       "229027   aregboumbw@gmail.com\n",
       "\n",
       "[229028 rows x 1 columns]"
      ]
     },
     "execution_count": 82,
     "metadata": {},
     "output_type": "execute_result"
    }
   ],
   "source": [
    "new_customers_2017_pd"
   ]
  },
  {
   "cell_type": "markdown",
   "metadata": {
    "id": "O63C6VxWti7A"
   },
   "source": [
    "\n",
    "\n",
    "---\n",
    "•\tLost Customers\n"
   ]
  },
  {
   "cell_type": "code",
   "execution_count": null,
   "metadata": {
    "id": "nMIOLMgatakb"
   },
   "outputs": [],
   "source": [
    "query = 'select customer_email\\\n",
    "        from (select customer_email, net_revenue from orders where year=2015 and customer_email not in (select customer_email from orders where year=2016))'\n",
    "lost_customers_2016 = spark.sql(query)\n",
    "query = 'select customer_email\\\n",
    "        from (select customer_email, net_revenue from orders where year=2016 and customer_email not in (select customer_email from orders where year=2017))'\n",
    "lost_customers_2017 = spark.sql(query)"
   ]
  },
  {
   "cell_type": "code",
   "execution_count": null,
   "metadata": {
    "id": "JJ9wWxH0uq9v"
   },
   "outputs": [],
   "source": [
    "lost_customers_2016_pd = lost_customers_2016.toPandas()\n",
    "lost_customers_2017_pd = lost_customers_2017.toPandas()\n"
   ]
  },
  {
   "cell_type": "code",
   "execution_count": null,
   "metadata": {
    "colab": {
     "base_uri": "https://localhost:8080/",
     "height": 423
    },
    "id": "0vq2KNU5u4iR",
    "outputId": "199c37f3-bc07-410f-e7cf-6ef4f029b7a6"
   },
   "outputs": [
    {
     "data": {
      "text/html": [
       "\n",
       "  <div id=\"df-38415fad-9190-4a8a-b51e-6708ee20c7d9\">\n",
       "    <div class=\"colab-df-container\">\n",
       "      <div>\n",
       "<style scoped>\n",
       "    .dataframe tbody tr th:only-of-type {\n",
       "        vertical-align: middle;\n",
       "    }\n",
       "\n",
       "    .dataframe tbody tr th {\n",
       "        vertical-align: top;\n",
       "    }\n",
       "\n",
       "    .dataframe thead th {\n",
       "        text-align: right;\n",
       "    }\n",
       "</style>\n",
       "<table border=\"1\" class=\"dataframe\">\n",
       "  <thead>\n",
       "    <tr style=\"text-align: right;\">\n",
       "      <th></th>\n",
       "      <th>customer_email</th>\n",
       "    </tr>\n",
       "  </thead>\n",
       "  <tbody>\n",
       "    <tr>\n",
       "      <th>0</th>\n",
       "      <td>nhknapwsbx@gmail.com</td>\n",
       "    </tr>\n",
       "    <tr>\n",
       "      <th>1</th>\n",
       "      <td>joiuzbvcpn@gmail.com</td>\n",
       "    </tr>\n",
       "    <tr>\n",
       "      <th>2</th>\n",
       "      <td>ukkjctepxt@gmail.com</td>\n",
       "    </tr>\n",
       "    <tr>\n",
       "      <th>3</th>\n",
       "      <td>gykatilzrt@gmail.com</td>\n",
       "    </tr>\n",
       "    <tr>\n",
       "      <th>4</th>\n",
       "      <td>mmsgsrtxah@gmail.com</td>\n",
       "    </tr>\n",
       "    <tr>\n",
       "      <th>...</th>\n",
       "      <td>...</td>\n",
       "    </tr>\n",
       "    <tr>\n",
       "      <th>171705</th>\n",
       "      <td>xtrpmgjbwp@gmail.com</td>\n",
       "    </tr>\n",
       "    <tr>\n",
       "      <th>171706</th>\n",
       "      <td>peeorxpsbr@gmail.com</td>\n",
       "    </tr>\n",
       "    <tr>\n",
       "      <th>171707</th>\n",
       "      <td>vanasezjpw@gmail.com</td>\n",
       "    </tr>\n",
       "    <tr>\n",
       "      <th>171708</th>\n",
       "      <td>dnpremlztb@gmail.com</td>\n",
       "    </tr>\n",
       "    <tr>\n",
       "      <th>171709</th>\n",
       "      <td>qsgswrpycl@gmail.com</td>\n",
       "    </tr>\n",
       "  </tbody>\n",
       "</table>\n",
       "<p>171710 rows × 1 columns</p>\n",
       "</div>\n",
       "      <button class=\"colab-df-convert\" onclick=\"convertToInteractive('df-38415fad-9190-4a8a-b51e-6708ee20c7d9')\"\n",
       "              title=\"Convert this dataframe to an interactive table.\"\n",
       "              style=\"display:none;\">\n",
       "        \n",
       "  <svg xmlns=\"http://www.w3.org/2000/svg\" height=\"24px\"viewBox=\"0 0 24 24\"\n",
       "       width=\"24px\">\n",
       "    <path d=\"M0 0h24v24H0V0z\" fill=\"none\"/>\n",
       "    <path d=\"M18.56 5.44l.94 2.06.94-2.06 2.06-.94-2.06-.94-.94-2.06-.94 2.06-2.06.94zm-11 1L8.5 8.5l.94-2.06 2.06-.94-2.06-.94L8.5 2.5l-.94 2.06-2.06.94zm10 10l.94 2.06.94-2.06 2.06-.94-2.06-.94-.94-2.06-.94 2.06-2.06.94z\"/><path d=\"M17.41 7.96l-1.37-1.37c-.4-.4-.92-.59-1.43-.59-.52 0-1.04.2-1.43.59L10.3 9.45l-7.72 7.72c-.78.78-.78 2.05 0 2.83L4 21.41c.39.39.9.59 1.41.59.51 0 1.02-.2 1.41-.59l7.78-7.78 2.81-2.81c.8-.78.8-2.07 0-2.86zM5.41 20L4 18.59l7.72-7.72 1.47 1.35L5.41 20z\"/>\n",
       "  </svg>\n",
       "      </button>\n",
       "      \n",
       "  <style>\n",
       "    .colab-df-container {\n",
       "      display:flex;\n",
       "      flex-wrap:wrap;\n",
       "      gap: 12px;\n",
       "    }\n",
       "\n",
       "    .colab-df-convert {\n",
       "      background-color: #E8F0FE;\n",
       "      border: none;\n",
       "      border-radius: 50%;\n",
       "      cursor: pointer;\n",
       "      display: none;\n",
       "      fill: #1967D2;\n",
       "      height: 32px;\n",
       "      padding: 0 0 0 0;\n",
       "      width: 32px;\n",
       "    }\n",
       "\n",
       "    .colab-df-convert:hover {\n",
       "      background-color: #E2EBFA;\n",
       "      box-shadow: 0px 1px 2px rgba(60, 64, 67, 0.3), 0px 1px 3px 1px rgba(60, 64, 67, 0.15);\n",
       "      fill: #174EA6;\n",
       "    }\n",
       "\n",
       "    [theme=dark] .colab-df-convert {\n",
       "      background-color: #3B4455;\n",
       "      fill: #D2E3FC;\n",
       "    }\n",
       "\n",
       "    [theme=dark] .colab-df-convert:hover {\n",
       "      background-color: #434B5C;\n",
       "      box-shadow: 0px 1px 3px 1px rgba(0, 0, 0, 0.15);\n",
       "      filter: drop-shadow(0px 1px 2px rgba(0, 0, 0, 0.3));\n",
       "      fill: #FFFFFF;\n",
       "    }\n",
       "  </style>\n",
       "\n",
       "      <script>\n",
       "        const buttonEl =\n",
       "          document.querySelector('#df-38415fad-9190-4a8a-b51e-6708ee20c7d9 button.colab-df-convert');\n",
       "        buttonEl.style.display =\n",
       "          google.colab.kernel.accessAllowed ? 'block' : 'none';\n",
       "\n",
       "        async function convertToInteractive(key) {\n",
       "          const element = document.querySelector('#df-38415fad-9190-4a8a-b51e-6708ee20c7d9');\n",
       "          const dataTable =\n",
       "            await google.colab.kernel.invokeFunction('convertToInteractive',\n",
       "                                                     [key], {});\n",
       "          if (!dataTable) return;\n",
       "\n",
       "          const docLinkHtml = 'Like what you see? Visit the ' +\n",
       "            '<a target=\"_blank\" href=https://colab.research.google.com/notebooks/data_table.ipynb>data table notebook</a>'\n",
       "            + ' to learn more about interactive tables.';\n",
       "          element.innerHTML = '';\n",
       "          dataTable['output_type'] = 'display_data';\n",
       "          await google.colab.output.renderOutput(dataTable, element);\n",
       "          const docLink = document.createElement('div');\n",
       "          docLink.innerHTML = docLinkHtml;\n",
       "          element.appendChild(docLink);\n",
       "        }\n",
       "      </script>\n",
       "    </div>\n",
       "  </div>\n",
       "  "
      ],
      "text/plain": [
       "               customer_email\n",
       "0        nhknapwsbx@gmail.com\n",
       "1        joiuzbvcpn@gmail.com\n",
       "2        ukkjctepxt@gmail.com\n",
       "3        gykatilzrt@gmail.com\n",
       "4        mmsgsrtxah@gmail.com\n",
       "...                       ...\n",
       "171705   xtrpmgjbwp@gmail.com\n",
       "171706   peeorxpsbr@gmail.com\n",
       "171707   vanasezjpw@gmail.com\n",
       "171708   dnpremlztb@gmail.com\n",
       "171709   qsgswrpycl@gmail.com\n",
       "\n",
       "[171710 rows x 1 columns]"
      ]
     },
     "execution_count": 85,
     "metadata": {},
     "output_type": "execute_result"
    }
   ],
   "source": [
    "lost_customers_2016_pd"
   ]
  },
  {
   "cell_type": "code",
   "execution_count": null,
   "metadata": {
    "colab": {
     "base_uri": "https://localhost:8080/",
     "height": 423
    },
    "id": "hjAIoiIcu5-V",
    "outputId": "30ec1d61-4ac0-43af-b4a7-092e1a2c4a13"
   },
   "outputs": [
    {
     "data": {
      "text/html": [
       "\n",
       "  <div id=\"df-0b307b4e-546d-4651-8214-978576c6a395\">\n",
       "    <div class=\"colab-df-container\">\n",
       "      <div>\n",
       "<style scoped>\n",
       "    .dataframe tbody tr th:only-of-type {\n",
       "        vertical-align: middle;\n",
       "    }\n",
       "\n",
       "    .dataframe tbody tr th {\n",
       "        vertical-align: top;\n",
       "    }\n",
       "\n",
       "    .dataframe thead th {\n",
       "        text-align: right;\n",
       "    }\n",
       "</style>\n",
       "<table border=\"1\" class=\"dataframe\">\n",
       "  <thead>\n",
       "    <tr style=\"text-align: right;\">\n",
       "      <th></th>\n",
       "      <th>customer_email</th>\n",
       "    </tr>\n",
       "  </thead>\n",
       "  <tbody>\n",
       "    <tr>\n",
       "      <th>0</th>\n",
       "      <td>mwrossuukz@gmail.com</td>\n",
       "    </tr>\n",
       "    <tr>\n",
       "      <th>1</th>\n",
       "      <td>gkwsoupawk@gmail.com</td>\n",
       "    </tr>\n",
       "    <tr>\n",
       "      <th>2</th>\n",
       "      <td>vlyigtgfzs@gmail.com</td>\n",
       "    </tr>\n",
       "    <tr>\n",
       "      <th>3</th>\n",
       "      <td>yfirychuhk@gmail.com</td>\n",
       "    </tr>\n",
       "    <tr>\n",
       "      <th>4</th>\n",
       "      <td>trnzgqinuu@gmail.com</td>\n",
       "    </tr>\n",
       "    <tr>\n",
       "      <th>...</th>\n",
       "      <td>...</td>\n",
       "    </tr>\n",
       "    <tr>\n",
       "      <th>183682</th>\n",
       "      <td>sqodpufunf@gmail.com</td>\n",
       "    </tr>\n",
       "    <tr>\n",
       "      <th>183683</th>\n",
       "      <td>mezrjfkced@gmail.com</td>\n",
       "    </tr>\n",
       "    <tr>\n",
       "      <th>183684</th>\n",
       "      <td>rdotspqdxi@gmail.com</td>\n",
       "    </tr>\n",
       "    <tr>\n",
       "      <th>183685</th>\n",
       "      <td>pidugzoeej@gmail.com</td>\n",
       "    </tr>\n",
       "    <tr>\n",
       "      <th>183686</th>\n",
       "      <td>kxqglfdktu@gmail.com</td>\n",
       "    </tr>\n",
       "  </tbody>\n",
       "</table>\n",
       "<p>183687 rows × 1 columns</p>\n",
       "</div>\n",
       "      <button class=\"colab-df-convert\" onclick=\"convertToInteractive('df-0b307b4e-546d-4651-8214-978576c6a395')\"\n",
       "              title=\"Convert this dataframe to an interactive table.\"\n",
       "              style=\"display:none;\">\n",
       "        \n",
       "  <svg xmlns=\"http://www.w3.org/2000/svg\" height=\"24px\"viewBox=\"0 0 24 24\"\n",
       "       width=\"24px\">\n",
       "    <path d=\"M0 0h24v24H0V0z\" fill=\"none\"/>\n",
       "    <path d=\"M18.56 5.44l.94 2.06.94-2.06 2.06-.94-2.06-.94-.94-2.06-.94 2.06-2.06.94zm-11 1L8.5 8.5l.94-2.06 2.06-.94-2.06-.94L8.5 2.5l-.94 2.06-2.06.94zm10 10l.94 2.06.94-2.06 2.06-.94-2.06-.94-.94-2.06-.94 2.06-2.06.94z\"/><path d=\"M17.41 7.96l-1.37-1.37c-.4-.4-.92-.59-1.43-.59-.52 0-1.04.2-1.43.59L10.3 9.45l-7.72 7.72c-.78.78-.78 2.05 0 2.83L4 21.41c.39.39.9.59 1.41.59.51 0 1.02-.2 1.41-.59l7.78-7.78 2.81-2.81c.8-.78.8-2.07 0-2.86zM5.41 20L4 18.59l7.72-7.72 1.47 1.35L5.41 20z\"/>\n",
       "  </svg>\n",
       "      </button>\n",
       "      \n",
       "  <style>\n",
       "    .colab-df-container {\n",
       "      display:flex;\n",
       "      flex-wrap:wrap;\n",
       "      gap: 12px;\n",
       "    }\n",
       "\n",
       "    .colab-df-convert {\n",
       "      background-color: #E8F0FE;\n",
       "      border: none;\n",
       "      border-radius: 50%;\n",
       "      cursor: pointer;\n",
       "      display: none;\n",
       "      fill: #1967D2;\n",
       "      height: 32px;\n",
       "      padding: 0 0 0 0;\n",
       "      width: 32px;\n",
       "    }\n",
       "\n",
       "    .colab-df-convert:hover {\n",
       "      background-color: #E2EBFA;\n",
       "      box-shadow: 0px 1px 2px rgba(60, 64, 67, 0.3), 0px 1px 3px 1px rgba(60, 64, 67, 0.15);\n",
       "      fill: #174EA6;\n",
       "    }\n",
       "\n",
       "    [theme=dark] .colab-df-convert {\n",
       "      background-color: #3B4455;\n",
       "      fill: #D2E3FC;\n",
       "    }\n",
       "\n",
       "    [theme=dark] .colab-df-convert:hover {\n",
       "      background-color: #434B5C;\n",
       "      box-shadow: 0px 1px 3px 1px rgba(0, 0, 0, 0.15);\n",
       "      filter: drop-shadow(0px 1px 2px rgba(0, 0, 0, 0.3));\n",
       "      fill: #FFFFFF;\n",
       "    }\n",
       "  </style>\n",
       "\n",
       "      <script>\n",
       "        const buttonEl =\n",
       "          document.querySelector('#df-0b307b4e-546d-4651-8214-978576c6a395 button.colab-df-convert');\n",
       "        buttonEl.style.display =\n",
       "          google.colab.kernel.accessAllowed ? 'block' : 'none';\n",
       "\n",
       "        async function convertToInteractive(key) {\n",
       "          const element = document.querySelector('#df-0b307b4e-546d-4651-8214-978576c6a395');\n",
       "          const dataTable =\n",
       "            await google.colab.kernel.invokeFunction('convertToInteractive',\n",
       "                                                     [key], {});\n",
       "          if (!dataTable) return;\n",
       "\n",
       "          const docLinkHtml = 'Like what you see? Visit the ' +\n",
       "            '<a target=\"_blank\" href=https://colab.research.google.com/notebooks/data_table.ipynb>data table notebook</a>'\n",
       "            + ' to learn more about interactive tables.';\n",
       "          element.innerHTML = '';\n",
       "          dataTable['output_type'] = 'display_data';\n",
       "          await google.colab.output.renderOutput(dataTable, element);\n",
       "          const docLink = document.createElement('div');\n",
       "          docLink.innerHTML = docLinkHtml;\n",
       "          element.appendChild(docLink);\n",
       "        }\n",
       "      </script>\n",
       "    </div>\n",
       "  </div>\n",
       "  "
      ],
      "text/plain": [
       "               customer_email\n",
       "0        mwrossuukz@gmail.com\n",
       "1        gkwsoupawk@gmail.com\n",
       "2        vlyigtgfzs@gmail.com\n",
       "3        yfirychuhk@gmail.com\n",
       "4        trnzgqinuu@gmail.com\n",
       "...                       ...\n",
       "183682   sqodpufunf@gmail.com\n",
       "183683   mezrjfkced@gmail.com\n",
       "183684   rdotspqdxi@gmail.com\n",
       "183685   pidugzoeej@gmail.com\n",
       "183686   kxqglfdktu@gmail.com\n",
       "\n",
       "[183687 rows x 1 columns]"
      ]
     },
     "execution_count": 86,
     "metadata": {},
     "output_type": "execute_result"
    }
   ],
   "source": [
    "lost_customers_2017_pd"
   ]
  }
 ],
 "metadata": {
  "colab": {
   "name": "casestudy2.ipynb",
   "provenance": []
  },
  "kernelspec": {
   "display_name": "Python 3",
   "language": "python",
   "name": "python3"
  },
  "language_info": {
   "codemirror_mode": {
    "name": "ipython",
    "version": 3
   },
   "file_extension": ".py",
   "mimetype": "text/x-python",
   "name": "python",
   "nbconvert_exporter": "python",
   "pygments_lexer": "ipython3",
   "version": "3.7.2"
  }
 },
 "nbformat": 4,
 "nbformat_minor": 1
}
